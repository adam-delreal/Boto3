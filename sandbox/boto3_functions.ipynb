{
 "cells": [
  {
   "cell_type": "code",
   "execution_count": 24,
   "metadata": {},
   "outputs": [],
   "source": [
    "import boto3\n",
    "import botocore\n",
    "import click"
   ]
  },
  {
   "cell_type": "code",
   "execution_count": 25,
   "metadata": {},
   "outputs": [],
   "source": [
    "# Establishing Session\n",
    "prof_name = 'python_automation'\n",
    "session = boto3.Session(profile_name=prof_name)\n",
    "# Establishing Resources: EC2 & S3\n",
    "ec2=session.resource('ec2')\n",
    "s3=session.resource('s3')"
   ]
  },
  {
   "cell_type": "code",
   "execution_count": 27,
   "metadata": {},
   "outputs": [],
   "source": [
    "ec2_all = ec2.instances.all()"
   ]
  },
  {
   "cell_type": "code",
   "execution_count": 35,
   "metadata": {},
   "outputs": [
    {
     "ename": "AttributeError",
     "evalue": "'ec2.instancesCollection' object has no attribute 'state'",
     "output_type": "error",
     "traceback": [
      "\u001b[0;31m---------------------------------------------------------------------------\u001b[0m",
      "\u001b[0;31mAttributeError\u001b[0m                            Traceback (most recent call last)",
      "\u001b[0;32m<ipython-input-35-0d86e5add10e>\u001b[0m in \u001b[0;36m<module>\u001b[0;34m\u001b[0m\n\u001b[0;32m----> 1\u001b[0;31m \u001b[0mec2_all\u001b[0m\u001b[0;34m.\u001b[0m\u001b[0mstate\u001b[0m\u001b[0;34m(\u001b[0m\u001b[0;34m)\u001b[0m\u001b[0;34m\u001b[0m\u001b[0;34m\u001b[0m\u001b[0m\n\u001b[0m",
      "\u001b[0;31mAttributeError\u001b[0m: 'ec2.instancesCollection' object has no attribute 'state'"
     ]
    }
   ],
   "source": []
  },
  {
   "cell_type": "code",
   "execution_count": 16,
   "metadata": {},
   "outputs": [],
   "source": [
    "instances=filter_instances(prof_name)\n",
    "for i in instances:\n",
    "    tags = { t['Key']: t['Value'] for t in i.tags or []}\n",
    "    print(', '.join((\n",
    "        i.id,\n",
    "        i.instance_type,\n",
    "        i.placement['AvailabilityZone'],\n",
    "        i.state['Name'],\n",
    "        i.public_dns_name,\n",
    "        tags.get('Project', '<no project>')\n",
    "    )))"
   ]
  },
  {
   "cell_type": "code",
   "execution_count": 3,
   "metadata": {},
   "outputs": [],
   "source": [
    "# Leverage click to work within the CLI\n",
    "@click.group()\n",
    "def cli():\n",
    "    \"\"\"\n",
    "    Project which manages aws.\n",
    "    \"\"\"\n",
    "    pass\n",
    "# Adding command: \"volume\"\n",
    "@cli.group('volumes')\n",
    "def volumes():\n",
    "    \"\"\"\n",
    "    Commands used for volumes.\n",
    "    \"\"\"\n",
    "    pass\n",
    "# Adding command: \"instances\"\n",
    "@cli.group('instances')\n",
    "def instances():\n",
    "    \"\"\"\n",
    "    Commands used for instances.\n",
    "    \"\"\"\n",
    "    pass"
   ]
  },
  {
   "cell_type": "code",
   "execution_count": 4,
   "metadata": {},
   "outputs": [],
   "source": [
    "###################### EC2 ######################\n",
    "\n",
    "def filter_instances(project):\n",
    "    \"\"\"\n",
    "    Filters EC2 instances according to project name.\n",
    "    \"\"\"\n",
    "    instances = []\n",
    "    if project:\n",
    "        filters = [{'Name':'tag:Project', 'Values':[project]}]\n",
    "        instances=ec2.instances.filter(Filters=filters)\n",
    "    else:\n",
    "        instances=ec2.instances.all()\n",
    "    return instances\n"
   ]
  },
  {
   "cell_type": "code",
   "execution_count": null,
   "metadata": {},
   "outputs": [],
   "source": [
    "def has_pending_snapshot(volume):\n",
    "    \"\"\"\n",
    "    States whether a snapshot is pending.\n",
    "    \"\"\"\n",
    "    snapshot=list(volume.snapshot.all())\n",
    "    return snapshot and snapshot[0].state == 'pending'"
   ]
  },
  {
   "cell_type": "code",
   "execution_count": null,
   "metadata": {},
   "outputs": [],
   "source": [
    "@snapshots.command('list')\n",
    "@click.option('--project', \n",
    "              default=None, \n",
    "              help='Only snapshots for project (tag project:<name>)')\n",
    "@click.option('--all', 'list_all', \n",
    "              default=False, \n",
    "              is_flag=True,\n",
    "              help='List all snapshots for each volume, not the most recent')\n",
    "def list_snapshots(project, list_all):\n",
    "    \"\"\"\n",
    "    Lists EC2 Snapshots\n",
    "    \"\"\"\n",
    "    instances=filter_instances(project)\n",
    "    for i in instances:\n",
    "        for v in i.volumes.all():\n",
    "            for s in v.snapshots.all():\n",
    "                print(\", \".join((\n",
    "                    s.id,\n",
    "                    v.id,\n",
    "                    i.id,\n",
    "                    s.state,\n",
    "                    s.progress,\n",
    "                    s.start_time_strftime(\"%c\")\n",
    "                )))\n",
    "                if s.state == 'completed' and not list_all: break\n",
    "    return"
   ]
  },
  {
   "cell_type": "code",
   "execution_count": null,
   "metadata": {},
   "outputs": [],
   "source": [
    "@volumes.command('list')\n",
    "@click.option('--project', \n",
    "              default=None,\n",
    "              help='Only volumes for project (tag project:<name>)')\n",
    "def list_volumes(project):\n",
    "    \"\"\"\n",
    "    Lists EC2 Volumes\n",
    "    \"\"\"\n",
    "    instances=filter_instances(project)\n",
    "    for i in instances:\n",
    "        for v in i.volumes.all():\n",
    "            print(\", \".join((\n",
    "                v.id,\n",
    "                i.id,\n",
    "                v.state,\n",
    "                str(v.size) + \"GiB\",\n",
    "                v.encrypted and \"Encrypted\" or \"Not Encrypted\"\n",
    "            )))\n",
    "    return"
   ]
  },
  {
   "cell_type": "code",
   "execution_count": null,
   "metadata": {},
   "outputs": [],
   "source": [
    "@instances.command('snapshot', \n",
    "                   help='Create snapshots of all volumes')\n",
    "@click.option('--project', \n",
    "              default=None,\n",
    "              help='Only instances forproject (tag project: <name>)')\n",
    "def create_snapshot(project):\n",
    "    \"\"\"\n",
    "    Creates Snapshots for EC2 instances\n",
    "    \"\"\"\n",
    "    for i in instances:\n",
    "        print(\"Stopping {0}...\".format(i.id))\n",
    "        i.stop()\n",
    "        i.wait_until_stopped()\n",
    "        for v in i.volumes.all():\n",
    "            if has_pending_snapshot(v):\n",
    "                print(' Skipping {0}, snapshot already in progress'.format(v.id))\n",
    "                continue\n",
    "            print('Creating snapshot of {0}'.format(v.id))\n",
    "            v.create_snapshot(Description='Created by snapshot function.')\n",
    "        print(\"Starting {0}...\".format(i.id))\n",
    "        i.start()\n",
    "        i.wait_until_running()\n",
    "    print(\"Jobs are done!\")\n",
    "    return"
   ]
  },
  {
   "cell_type": "code",
   "execution_count": 6,
   "metadata": {},
   "outputs": [],
   "source": [
    "@instances.command('list')\n",
    "@click.option('--project', \n",
    "              default=None,\n",
    "              help='Only instance for project (tag project:<name>)')\n",
    "def list_instances(project):\n",
    "    \"\"\"\n",
    "    Lists EC2 instances\n",
    "    \"\"\"\n",
    "    instances=filter_instances(project)\n",
    "    for i in instances:\n",
    "        tags = { t['Key']: t['Value'] for t in i.tags or []}\n",
    "        print(', '.join((\n",
    "            i.id,\n",
    "            i.instance_type,\n",
    "            i.placement['AvailabilityZone'],\n",
    "            i.state['Name'],\n",
    "            i.public_dns_name,\n",
    "            tags.get('Project', '<no project>')\n",
    "        )))\n",
    "        \n",
    "    return"
   ]
  },
  {
   "cell_type": "code",
   "execution_count": null,
   "metadata": {},
   "outputs": [],
   "source": [
    "@instances.command('stop')\n",
    "@click.option('--project', \n",
    "              default=None,\n",
    "              help='Only instances for the project')\n",
    "def stop_instances(project):\n",
    "    \"\"\"\n",
    "    Stops EC2 Instances\n",
    "    \"\"\"\n",
    "    instances=filter_instances(project)\n",
    "    for i in instances:\n",
    "        print(\"Stopping {0}...\".format(i.id))\n",
    "        try:\n",
    "            i.stop()\n",
    "        except botocore.exceptions.ClientError as e:\n",
    "            print(\"Cloud could not stop {0}. \".format(i.id) + str(e))\n",
    "            continue\n",
    "    return"
   ]
  },
  {
   "cell_type": "code",
   "execution_count": null,
   "metadata": {},
   "outputs": [],
   "source": [
    "@instances.command('start')\n",
    "@click.option('--project', default=None,\n",
    "  help='Only instances for the project')\n",
    "def start_instances(project):\n",
    "    \"\"\"\n",
    "    Starts EC2 Instances\n",
    "    \"\"\"\n",
    "    instances=filter_instances(project)\n",
    "    for i in instances:\n",
    "        print(\"Starting {0}...\".format(i.id))\n",
    "        try:\n",
    "            i.start()\n",
    "        except botocore.exceptions.ClientError as e:\n",
    "            print(\"Cloud could not start {0}. \".format(i.id) + str(e))\n",
    "            continue\n",
    "\n",
    "    return"
   ]
  },
  {
   "cell_type": "code",
   "execution_count": null,
   "metadata": {},
   "outputs": [],
   "source": [
    "########################## S3 #############################\n",
    "@cli.command('list-buckets')\n",
    "def list_buckets():\n",
    "    \"\"\"\n",
    "    Lists all S3 Buckets.\n",
    "    \"\"\"\n",
    "    for x in s3.buckets.all():\n",
    "        print(x)\n"
   ]
  },
  {
   "cell_type": "code",
   "execution_count": null,
   "metadata": {},
   "outputs": [],
   "source": [
    "@cli.command('list-bucket-objects')\n",
    "@click.argument('bucket')\n",
    "def list_bucket_objects(bucket):\n",
    "    \"\"\"\n",
    "    Lists objects within an S3 Bucket.\n",
    "    \"\"\"\n",
    "    for x in s3.Bucket(bucket).objects.all():\n",
    "        print(x)\n"
   ]
  },
  {
   "cell_type": "code",
   "execution_count": null,
   "metadata": {},
   "outputs": [],
   "source": [
    "###### CURRENTLY WORKING ON:\n",
    "@cli.command('setup-bucket')\n",
    "@click.argument('bucket')\n",
    "def setup_bucket(bucket):\n",
    "    \"\"\"\n",
    "    Create and Configures an S3 Bucket.\n",
    "    \"\"\"\n",
    "    try:\n",
    "        s3_bucket = s3.create_bucket(\n",
    "            Bucket=bucket,\n",
    "            CreateBucketConfiguration={'LocationConstraints':session.region_name}\n",
    "            )\n",
    "    except botocore.exceptions.ClientError as e:\n",
    "        if e.response['Error']['Code'] == 'BucketAlreadyCreated':\n",
    "            s3_bucket = s3.Bucket(bucket)\n",
    "        else:\n",
    "            raise e\n",
    "\n",
    "    # policy = \"\"\"{\n",
    "    # \"Version\": ,\n",
    "    # 'Statement': [{,\n",
    "    # 'Sid': ,\n",
    "    # 'Effect': ,\n",
    "    # 'Principle' : ,\n",
    "    #     'Action' : ,\n",
    "    #     'Resources' : ,}]\n",
    "    # }\n",
    "    # \"\"\"\n",
    "    # % s3_bucket.name\n",
    "    # policy = policy.strip()\n",
    "    #\n",
    "    # pol = s3_bucket.Policy()\n",
    "    # pol.put(Policy=policy)\n",
    "\n"
   ]
  },
  {
   "cell_type": "code",
   "execution_count": null,
   "metadata": {},
   "outputs": [],
   "source": [
    "if __name__ == '__main__':\n",
    "    cli()\n"
   ]
  },
  {
   "cell_type": "code",
   "execution_count": null,
   "metadata": {},
   "outputs": [],
   "source": []
  }
 ],
 "metadata": {
  "kernelspec": {
   "display_name": "Python 3",
   "language": "python",
   "name": "python3"
  },
  "language_info": {
   "codemirror_mode": {
    "name": "ipython",
    "version": 3
   },
   "file_extension": ".py",
   "mimetype": "text/x-python",
   "name": "python",
   "nbconvert_exporter": "python",
   "pygments_lexer": "ipython3",
   "version": "3.6.8"
  }
 },
 "nbformat": 4,
 "nbformat_minor": 2
}
